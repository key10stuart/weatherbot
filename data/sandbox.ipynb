{
 "cells": [
  {
   "cell_type": "code",
   "execution_count": null,
   "id": "0a9b96c4",
   "metadata": {},
   "outputs": [],
   "source": [
    "import numpy as np\n",
    "\n",
    "data = np.load(\"processed/windowed_sav_092825.npz\", allow_pickle=True)\n",
    "\n",
    "print(\"Keys:\", data.files)\n",
    "\n",
    "for k in data.files:\n",
    "    arr = data[k]\n",
    "    print(f\"{k}: shape={arr.shape}, dtype={arr.dtype}\")\n"
   ]
  },
  {
   "cell_type": "code",
   "execution_count": null,
   "id": "4a01b7c6",
   "metadata": {},
   "outputs": [],
   "source": [
    "print(\"Sample X_train[0]:\", data[\"X_train\"][0])\n",
    "print(\"Sample y_train[0]:\", data[\"y_train\"][0])\n"
   ]
  }
 ],
 "metadata": {
  "kernelspec": {
   "display_name": "draft",
   "language": "python",
   "name": "python3"
  },
  "language_info": {
   "codemirror_mode": {
    "name": "ipython",
    "version": 3
   },
   "file_extension": ".py",
   "mimetype": "text/x-python",
   "name": "python",
   "nbconvert_exporter": "python",
   "pygments_lexer": "ipython3",
   "version": "3.12.7"
  }
 },
 "nbformat": 4,
 "nbformat_minor": 5
}
